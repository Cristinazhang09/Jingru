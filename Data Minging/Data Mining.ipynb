{
 "cells": [
  {
   "cell_type": "markdown",
   "metadata": {},
   "source": [
    "### 1. Closed Itemset Mining"
   ]
  },
  {
   "cell_type": "code",
   "execution_count": 1,
   "metadata": {},
   "outputs": [],
   "source": [
    "\"\"\" This program creates the brute force algorithm\n",
    "    for itemset mining. \n",
    "\"\"\"\n",
    "import sys\n",
    "import pandas as pd\n",
    "def create_dict_from_file(filename):\n",
    "    \"\"\" Read in a file of itemsets\n",
    "        each row is considered the transaction id\n",
    "        and each line contains the items associated\n",
    "        with it.\n",
    "        This function returns a dictionary that\n",
    "        has a key set as the tid and has values\n",
    "        of the list of items (strings)\n",
    "    \"\"\"\n",
    "    f = open(filename, 'r')\n",
    "    d = {}\n",
    "    for tids, line_items in enumerate(f):\n",
    "           d[tids] = [j for j in line_items.split(' ')\n",
    "                           if j != '\\n']\n",
    "    return d\n",
    "def create_database(itemset):\n",
    "    \"Uses dummy indexing to create the binary database\"\n",
    "    return pd.Series(itemset).str.join('|').str.get_dummies()\n",
    "def compute_support(df, column):\n",
    "    \"Exploits the binary nature of the database\"\n",
    "    return df[column].sum()\n",
    "\n",
    "def oneitem_set(filename, minsup):\n",
    "    dict_itemset = create_dict_from_file(filename)\n",
    "    database = create_database(dict_itemset)\n",
    "    # Executes the brute force algorithm\n",
    "    # NOTE: a list comprehension is faster\n",
    "    freq_items = []\n",
    "    for col in database.columns:\n",
    "        sup = compute_support(database, col)\n",
    "        if sup >= minsup:\n",
    "            freq_items.append(int(col))\n",
    "        else:\n",
    "            pass\n",
    "    print('There are %d items with frequency'\\\n",
    "          ' greater than or equal to minsup.' % len(freq_items))\n",
    "    print(sorted(freq_items))"
   ]
  },
  {
   "cell_type": "code",
   "execution_count": 2,
   "metadata": {},
   "outputs": [
    {
     "name": "stdout",
     "output_type": "stream",
     "text": [
      "There are 24 items with frequency greater than or equal to minsup.\n",
      "[1, 2, 3, 6, 10, 23, 24, 28, 34, 36, 39, 52, 53, 56, 59, 63, 67, 76, 85, 86, 90, 93, 110, 116]\n"
     ]
    }
   ],
   "source": [
    "filename = 'ClosedItemsetMining.txt'\n",
    "oneitem_set(filename, 3000)"
   ]
  },
  {
   "cell_type": "code",
   "execution_count": 3,
   "metadata": {},
   "outputs": [
    {
     "name": "stdout",
     "output_type": "stream",
     "text": [
      "There are 7 items with frequency greater than or equal to minsup.\n",
      "[34, 36, 39, 59, 85, 86, 90]\n"
     ]
    }
   ],
   "source": [
    "oneitem_set(filename, 5000)"
   ]
  },
  {
   "cell_type": "markdown",
   "metadata": {},
   "source": [
    "### 2. Non Derivable Itemsets"
   ]
  },
  {
   "cell_type": "code",
   "execution_count": 4,
   "metadata": {},
   "outputs": [],
   "source": [
    "from itertools import chain, combinations\n",
    "\n",
    "def powerset(iterable):\n",
    "    \"powerset([1,2,3]) --> () (1,) (2,) (3,) (1,2) (1,3) (2,3) (1,2,3)\"\n",
    "    s = list(iterable)\n",
    "    return chain.from_iterable(combinations(s, r) for r in range(len(s)+1))"
   ]
  },
  {
   "cell_type": "code",
   "execution_count": 5,
   "metadata": {},
   "outputs": [],
   "source": [
    "# load support\n",
    "'''\n",
    "input: filename\n",
    "return: a dictionary of key: a string of itemset, value: support (int) \n",
    "'''\n",
    "from collections import defaultdict\n",
    "#supp_dict = {}\n",
    "def load_support(filename):\n",
    "    supp_dict = {}\n",
    "    with open(filename) as f:\n",
    "        line = f.readline()\n",
    "        supp_dict['-1'] = int(line.split('-')[-1])\n",
    "        for line in f.readlines():\n",
    "            key = line.split('-')[0].strip()\n",
    "            value = line.split('-')[1]\n",
    "            value = int(value.strip())\n",
    "            supp_dict[key] = value\n",
    "    return supp_dict"
   ]
  },
  {
   "cell_type": "code",
   "execution_count": 6,
   "metadata": {},
   "outputs": [],
   "source": [
    "supp_dict = load_support('itemsets.txt')"
   ]
  },
  {
   "cell_type": "code",
   "execution_count": 7,
   "metadata": {},
   "outputs": [],
   "source": [
    "# load test itemset\n",
    "def load_test(filename):\n",
    "    itemset = []\n",
    "    with open(filename) as f:\n",
    "        for line in f.readlines():\n",
    "            itemset.append(line.strip())\n",
    "    return itemset"
   ]
  },
  {
   "cell_type": "code",
   "execution_count": 8,
   "metadata": {},
   "outputs": [],
   "source": [
    "# load target itemset\n",
    "target = load_test('ndi.txt')"
   ]
  },
  {
   "cell_type": "code",
   "execution_count": 9,
   "metadata": {},
   "outputs": [
    {
     "name": "stdout",
     "output_type": "stream",
     "text": [
      "['29 34 40 52 62', '7 29', '29 48 58', '7 29 36 40 52 58 60', '5 40 52 60', '7 36 40 58', '36 40 52 58 60 66']\n"
     ]
    }
   ],
   "source": [
    "print(target)"
   ]
  },
  {
   "cell_type": "code",
   "execution_count": 10,
   "metadata": {},
   "outputs": [],
   "source": [
    "# get the support from the first file for each itemset\n",
    "def get_supp(itemset):\n",
    "    if len(itemset)==0:\n",
    "        return supp_dict['-1']\n",
    "    else:\n",
    "        itemset_string = ' '.join(str(i) for i in sorted(itemset))\n",
    "        return supp_dict[itemset_string]"
   ]
  },
  {
   "cell_type": "code",
   "execution_count": 11,
   "metadata": {},
   "outputs": [],
   "source": [
    "# calculate the lower bound and upper bound for a given itemset\n",
    "def getIE(X):\n",
    "    Y_set = [set(i) for i in powerset(X)]\n",
    "    lo = []\n",
    "    up = []\n",
    "    for Y in Y_set:\n",
    "        total = 0\n",
    "        W = [i for i in Y_set if i.issuperset(Y) and len(i) < len(X)]\n",
    "        temp_supp = sum([(-1)**(len(X)-len(w)+1)*get_supp(w) for w in W])\n",
    "        if (len(X)-len(Y))%2==0:\n",
    "            lo.append(temp_supp)\n",
    "        else:\n",
    "            up.append(temp_supp)\n",
    "    return max(lo), min(up)"
   ]
  },
  {
   "cell_type": "code",
   "execution_count": 12,
   "metadata": {},
   "outputs": [
    {
     "name": "stdout",
     "output_type": "stream",
     "text": [
      "{34, 40, 52, 29, 62}:[2888, 2888], derivable\n",
      "{29, 7}:[3061, 3076], non-derivable\n",
      "{48, 58, 29}:[2997, 2997], derivable\n",
      "{36, 7, 40, 52, 58, 60, 29}:[2890, 2890], derivable\n",
      "{40, 52, 5, 60}:[2893, 2893], derivable\n",
      "{40, 58, 36, 7}:[2952, 2952], derivable\n",
      "{66, 36, 40, 52, 58, 60}:[2888, 2888], derivable\n"
     ]
    }
   ],
   "source": [
    "# for every itemset, print the itemset, lo, up and whether it is derivable or not\n",
    "for itemset in target:\n",
    "    temp = map(int, itemset.split())\n",
    "    itemset = set(temp)\n",
    "    lo, up = getIE(itemset)\n",
    "    if lo==up:\n",
    "        print(str(itemset)+':[{}, {}], derivable'.format(lo, up))\n",
    "    else:\n",
    "        print(str(itemset)+':[{}, {}], non-derivable'.format(lo, up))"
   ]
  },
  {
   "cell_type": "markdown",
   "metadata": {},
   "source": [
    "### 3. High Dimensional Data Analysis"
   ]
  },
  {
   "cell_type": "code",
   "execution_count": 13,
   "metadata": {},
   "outputs": [],
   "source": [
    "# define the hypervolume\n",
    "import math\n",
    "def hypervolume(d, r=1):\n",
    "    return (r**d)*(math.pi**(d/2))/math.gamma(d/2+1)"
   ]
  },
  {
   "cell_type": "code",
   "execution_count": 14,
   "metadata": {},
   "outputs": [
    {
     "data": {
      "text/plain": [
       "Text(0, 0.5, 'Hypervolume')"
      ]
     },
     "execution_count": 14,
     "metadata": {},
     "output_type": "execute_result"
    }
   ],
   "source": [
    "# plot hypervolume for n=1,2,3...50\n",
    "import matplotlib.pyplot as plt\n",
    "plt.plot(range(1, 51), [hypervolume(i) for i in range(1,51)])\n",
    "plt.xlabel('Dimension')\n",
    "plt.ylabel('Hypervolume')"
   ]
  },
  {
   "cell_type": "code",
   "execution_count": 15,
   "metadata": {},
   "outputs": [],
   "source": [
    "# get r for a d dimension hypershpere with a volume of 1\n",
    "def r_hypervolume(d):\n",
    "    return (math.gamma(d/2+1)/math.pi**(d/2))**(1/d)"
   ]
  },
  {
   "cell_type": "code",
   "execution_count": 16,
   "metadata": {},
   "outputs": [
    {
     "data": {
      "text/plain": [
       "Text(0, 0.5, 'Radius')"
      ]
     },
     "execution_count": 16,
     "metadata": {},
     "output_type": "execute_result"
    },
    {
     "data": {
      "image/png": "[encoded data removed]",
      "text/plain": [
       "<Figure size 432x288 with 1 Axes>"
      ]
     },
     "metadata": {
      "needs_background": "light"
     },
     "output_type": "display_data"
    }
   ],
   "source": [
    "# plot r for a d-dimension hypersphere with a volume of 1\n",
    "plt.plot(range(1,101), [r_hypervolume(i) for i in range(1,101)])\n",
    "plt.xlabel('Dimension')\n",
    "plt.ylabel('Radius')"
   ]
  },
  {
   "cell_type": "markdown",
   "metadata": {},
   "source": [
    "Q3: Nearest Neighbors: Assume we have a unit hypercube centered at (0.5,⋯,0.5). Generate n=10000 uniformly random points in d dimensions, in the range (0,1) in each dimension. Find the ratio of the nearest and farthest point from the center of the space. Also store the actual distance of the nearest dn and farthest df points from the center. Plot these value for d=1,⋯,100."
   ]
  },
  {
   "cell_type": "code",
   "execution_count": 17,
   "metadata": {},
   "outputs": [],
   "source": [
    "import numpy as np\n",
    "ratio = []\n",
    "near = []\n",
    "far = []\n",
    "def get_distance(p):\n",
    "    return math.sqrt(sum([(i-0.5)**2 for i in p]))\n",
    "\n",
    "for d in range(1, 101):\n",
    "    points = [np.random.rand(d) for _ in range(10000)]\n",
    "    distance = [get_distance(p) for p in points]\n",
    "    nearest = min(distance)\n",
    "    fathest = max(distance)\n",
    "    near.append(nearest)\n",
    "    far.append(fathest)\n",
    "    ratio.append(nearest/fathest)"
   ]
  },
  {
   "cell_type": "code",
   "execution_count": 18,
   "metadata": {},
   "outputs": [
    {
     "data": {
      "text/plain": [
       "<matplotlib.legend.Legend at 0x290fbb9dd08>"
      ]
     },
     "execution_count": 18,
     "metadata": {},
     "output_type": "execute_result"
    },
    {
     "data": {
      "image/png": "[encoded data removed]",
      "text/plain": [
       "<Figure size 432x288 with 1 Axes>"
      ]
     },
     "metadata": {
      "needs_background": "light"
     },
     "output_type": "display_data"
    }
   ],
   "source": [
    "plt.plot(range(1,101), near, label='Nearest')\n",
    "plt.plot(range(1,101), far, label = 'Farthest')\n",
    "plt.plot(range(1,101), ratio, label= 'Ratio')\n",
    "plt.xlabel('Dimension')\n",
    "plt.legend()"
   ]
  },
  {
   "cell_type": "markdown",
   "metadata": {},
   "source": [
    "Q4: Fraction of Volume: Assume we have a hypercube of edge length l=2 centered at the origin (0,0,⋯,0). Generate n=10,000 points uniformly at random for increasing dimensionality d=1,⋯,100. Now answer the following questions:\n",
    "\n",
    "Plot the fraction of points that lie inside the largest hypersphere that can be inscribed inside the hypercube with increasing d. After how many dimensions does the fraction go to essentially zero? Plot the fraction of points in the thin shell of width ϵ=0.01 inside the hypercube (i.e., the difference between the outer hypercube and inner hypercube, or the thin shell along the boundaries). What is the trend that you see? After how many dimensions does the fraction of volume in the thin shell go to 100% (use binary search or increase the dimensionality in steps of 10 to answer this. You may use maximum dimensions of up to 2000, and you may use a threshold of 0.0001 to count the volume as essentially being 1 in the shell, i.e., a volume of 0.9999 can be taken to be equal to 1 for finding the smallest dimension at which this happens)."
   ]
  },
  {
   "cell_type": "code",
   "execution_count": 19,
   "metadata": {},
   "outputs": [],
   "source": [
    "def get_distance1(p):\n",
    "    return math.sqrt(sum([i**2 for i in p]))\n",
    "\n",
    "def ratio_epsilon(eps1 = 0, eps2 = 1):\n",
    "    frac = []\n",
    "    for d in range(1, 101):\n",
    "        points = [np.random.rand(d) for _ in range(10000)]\n",
    "        distance = [get_distance1(p) for p in points]\n",
    "        frac.append(sum([i>eps1 and i<eps2 for i in distance])/10000)\n",
    "    return frac"
   ]
  },
  {
   "cell_type": "code",
   "execution_count": 20,
   "metadata": {},
   "outputs": [
    {
     "data": {
      "image/png": "[encoded data removed]",
      "text/plain": [
       "<Figure size 432x288 with 2 Axes>"
      ]
     },
     "metadata": {
      "needs_background": "light"
     },
     "output_type": "display_data"
    }
   ],
   "source": [
    "frac1 = ratio_epsilon()\n",
    "frac2 = ratio_epsilon(0.99, 1)\n",
    "fig, ax = plt.subplots(2,1)\n",
    "ax[0].plot(range(1,101), frac1, label='Entire sphere')\n",
    "ax[1].plot(range(1,101), frac2, label='$\\epsilon$=0.01')\n",
    "plt.legend()\n",
    "plt.tight_layout()"
   ]
  },
  {
   "cell_type": "markdown",
   "metadata": {},
   "source": [
    "Obervations: The fraction monotonically decreases to zero for the hypersphere, while the fraction increases and then decreases for  𝜖 =0.01"
   ]
  },
  {
   "cell_type": "code",
   "execution_count": 21,
   "metadata": {},
   "outputs": [
    {
     "name": "stdout",
     "output_type": "stream",
     "text": [
      "The fraction goes to essentially zero from 15 and after.\n"
     ]
    }
   ],
   "source": [
    "# the dimension have 0\n",
    "d = frac1.index(0.00)+1\n",
    "print('The fraction goes to essentially zero from {} and after.'.format(d))"
   ]
  },
  {
   "cell_type": "code",
   "execution_count": 22,
   "metadata": {},
   "outputs": [],
   "source": [
    "def get_d(eps = 0.01, threshold=0.0001):\n",
    "    d = 1\n",
    "    while(True):\n",
    "        if 1-(1-eps/1)**d < (1-threshold):\n",
    "            d = d + 10\n",
    "        else:\n",
    "            print(d)\n",
    "            break\n",
    "        "
   ]
  },
  {
   "cell_type": "code",
   "execution_count": 23,
   "metadata": {},
   "outputs": [
    {
     "name": "stdout",
     "output_type": "stream",
     "text": [
      "921\n"
     ]
    }
   ],
   "source": [
    "# print the dimension\n",
    "get_d(0.01, 0.0001)"
   ]
  },
  {
   "cell_type": "markdown",
   "metadata": {},
   "source": [
    "Q5: Diagonals in High Dimensions\n",
    "\n",
    "Your goal is the compute the empirical probability mass function (EPMF) for the random variable X that represents the angle (in degrees) between any two diagonals in high dimensions.\n",
    "\n",
    "Assume that there are d primary dimensions (the standard axes in cartesian coordinates), with each of them ranging from -1 to 1. There are 2d additional half-diagonals in this space, one for each corner of the d-dimensional hypercube.\n",
    "\n",
    "Write a script that randomly generates n=100000 pairs of half-diagonals in the d-dimensional hypercube, and computes the angle between them (in degrees).\n",
    "\n",
    "Plot the EPMF for three different values of d, as follows d=10,100,1000. What is the min, max, value range, mean and variance of X for each value of d?\n",
    "\n",
    "What would you have expected to have happened analytically? In other words, derive formulas for what should happen to angle between half-diagonals as d→∞. Does the EPMF conform to this trend? Explain why? or why not?\n",
    "\n",
    "What is the expected number of occurrences of a given angle θ between two half-diagonals, as a function of d (the dimensionality) and n (the sample size)?"
   ]
  },
  {
   "cell_type": "code",
   "execution_count": 24,
   "metadata": {},
   "outputs": [],
   "source": [
    "# define script to generate pairs\n",
    "def generate_half_dig_pairs(d, n=100000):\n",
    "    '''\n",
    "    input: n->number of pairs, d->dimension\n",
    "    output: list of tuples, in which each tuple is a pair of points\n",
    "    '''\n",
    "    return [(np.random.choice([-1,1], d), np.random.choice([-1,1], d)) for _ in range(n)]"
   ]
  },
  {
   "cell_type": "code",
   "execution_count": 25,
   "metadata": {},
   "outputs": [],
   "source": [
    "def get_angle(p1, p2):\n",
    "    d_p1 = math.sqrt(sum([i**2 for i in p1]))\n",
    "    d_p2 = math.sqrt(sum([i**2 for i in p2]))\n",
    "    d_p1p2 = sum([p1[i]*p2[i] for i in range(len(p1))])\n",
    "    return np.arccos(d_p1p2/(d_p1*d_p2))/math.pi*180"
   ]
  },
  {
   "cell_type": "code",
   "execution_count": 26,
   "metadata": {},
   "outputs": [
    {
     "data": {
      "text/plain": [
       "<matplotlib.axes._subplots.AxesSubplot at 0x29086abc1c8>"
      ]
     },
     "execution_count": 26,
     "metadata": {},
     "output_type": "execute_result"
    },
    {
     "data": {
      "image/png": "[encoded data removed]",
      "text/plain": [
       "<Figure size 432x288 with 1 Axes>"
      ]
     },
     "metadata": {
      "needs_background": "light"
     },
     "output_type": "display_data"
    }
   ],
   "source": [
    "# plot EPMF for d=10\n",
    "import seaborn as sns\n",
    "d10 = generate_half_dig_pairs(10)\n",
    "angle_list = [get_angle(i[0], i[1]) for i in d10]\n",
    "sns.distplot(angle_list, norm_hist=True, kde=False)"
   ]
  },
  {
   "cell_type": "code",
   "execution_count": 27,
   "metadata": {},
   "outputs": [],
   "source": [
    "# print min, max range, mean, variance for d=10\n",
    "def print_summary(angle_list):\n",
    "    '''\n",
    "    input: a list\n",
    "    outpur: min, max, range, mean, var\n",
    "    '''\n",
    "    print('min: {:.2f},\\nmax: {:.2f},\\nrange: {:.2f},\\nmean: {:.2f},\\nvariance: {:.2f}.'.format(\n",
    "             np.min(angle_list),\n",
    "             np.max(angle_list), \n",
    "             np.max(angle_list)-np.min(angle_list),\n",
    "             np.mean(angle_list),\n",
    "             np.var(angle_list)))"
   ]
  },
  {
   "cell_type": "code",
   "execution_count": 28,
   "metadata": {},
   "outputs": [
    {
     "name": "stdout",
     "output_type": "stream",
     "text": [
      "min: 0.00,\n",
      "max: 180.00,\n",
      "range: 180.00,\n",
      "mean: 89.99,\n",
      "variance: 375.82.\n"
     ]
    }
   ],
   "source": [
    "print_summary(angle_list)"
   ]
  },
  {
   "cell_type": "code",
   "execution_count": 29,
   "metadata": {},
   "outputs": [
    {
     "data": {
      "text/plain": [
       "<matplotlib.axes._subplots.AxesSubplot at 0x2908d0aabc8>"
      ]
     },
     "execution_count": 29,
     "metadata": {},
     "output_type": "execute_result"
    },
    {
     "data": {
      "image/png": "[encoded data removed]",
      "text/plain": [
       "<Figure size 432x288 with 1 Axes>"
      ]
     },
     "metadata": {
      "needs_background": "light"
     },
     "output_type": "display_data"
    }
   ],
   "source": [
    "# plot EPMF for d=100 \n",
    "d100 = generate_half_dig_pairs(100)\n",
    "d100_angle_list = [get_angle(i[0], i[1]) for i in d100]\n",
    "sns.distplot(angle_list, norm_hist=True, kde=False)"
   ]
  },
  {
   "cell_type": "code",
   "execution_count": 30,
   "metadata": {},
   "outputs": [
    {
     "name": "stdout",
     "output_type": "stream",
     "text": [
      "min: 66.42,\n",
      "max: 116.10,\n",
      "range: 49.68,\n",
      "mean: 90.02,\n",
      "variance: 32.87.\n"
     ]
    }
   ],
   "source": [
    "# print min, max range, mean, variance for d=100\n",
    "print_summary(d100_angle_list)"
   ]
  },
  {
   "cell_type": "code",
   "execution_count": 31,
   "metadata": {},
   "outputs": [
    {
     "data": {
      "text/plain": [
       "<matplotlib.axes._subplots.AxesSubplot at 0x290c33bd208>"
      ]
     },
     "execution_count": 31,
     "metadata": {},
     "output_type": "execute_result"
    },
    {
     "data": {
      "image/png": "[encoded data removed]",
      "text/plain": [
       "<Figure size 432x288 with 1 Axes>"
      ]
     },
     "metadata": {
      "needs_background": "light"
     },
     "output_type": "display_data"
    }
   ],
   "source": [
    "# plot EPMF for d=1000\n",
    "d1000 = generate_half_dig_pairs(1000)\n",
    "d1000_angle_list = [get_angle(i[0], i[1]) for i in d1000]\n",
    "sns.distplot(angle_list, norm_hist=True, kde=False)"
   ]
  },
  {
   "cell_type": "code",
   "execution_count": 32,
   "metadata": {},
   "outputs": [
    {
     "name": "stdout",
     "output_type": "stream",
     "text": [
      "min: 82.30,\n",
      "max: 97.82,\n",
      "range: 15.52,\n",
      "mean: 90.00,\n",
      "variance: 3.30.\n"
     ]
    }
   ],
   "source": [
    "print_summary(d1000_angle_list)"
   ]
  },
  {
   "cell_type": "markdown",
   "metadata": {},
   "source": [
    "For a given pair of half-diagnols,  cos𝜃  =  ∑(𝑖∗𝑗)/𝑑  for a d-dimension space. The  ∑(𝑖∗𝑗)  denotes the sum of values at each axises for the two points, and i, j are from choices of -1 and 1, with  𝑑→∞ ,  cos𝜃→0 , such that  𝜃→90∘ . The PMF confirm this, as we can see the mean keeps 90.00, while range and variance decreases monotonously."
   ]
  },
  {
   "cell_type": "markdown",
   "metadata": {},
   "source": [
    "Q: What is the expected number of occurrences of a given angle θ between two half-diagonals, as a function of d (the dimensionality) and n (the sample size)?"
   ]
  },
  {
   "cell_type": "code",
   "execution_count": 33,
   "metadata": {},
   "outputs": [],
   "source": [
    "# the distribution can be approximated with a normal distribition of\n",
    "# mean = 90, var = 3.3*1000\n",
    "mean = 90\n",
    "var = 3.3*1000\n",
    "from scipy.stats import norm\n",
    "def gauss(x, mean, std):\n",
    "    return math.exp((-1/2)*((x-mean)/std)**2)/(std*math.sqrt(2*math.pi))\n",
    "def get_expected(theta, n, d):\n",
    "    prop = gauss(theta, 90, math.sqrt(var/d))\n",
    "    occur = prop*n\n",
    "    return(round(occur, 4))\n",
    "    "
   ]
  },
  {
   "cell_type": "code",
   "execution_count": 34,
   "metadata": {},
   "outputs": [
    {
     "data": {
      "text/plain": [
       "694.4694"
      ]
     },
     "execution_count": 34,
     "metadata": {},
     "output_type": "execute_result"
    }
   ],
   "source": [
    "# print occurence for 89, 10000, 100\n",
    "get_expected(90, 10000, 100)"
   ]
  },
  {
   "cell_type": "markdown",
   "metadata": {},
   "source": [
    "### Exercise 3.1.1 Compute the Jaccard similarities of each pair of the following\n",
    "### three sets: {1, 2, 3, 4}, {2, 3, 5, 7}, and {2, 4, 6}."
   ]
  },
  {
   "cell_type": "code",
   "execution_count": 35,
   "metadata": {},
   "outputs": [],
   "source": [
    "def jaccard_similarity(set1, set2):\n",
    "    return len(set1 & set2) / len (set1 | set2)"
   ]
  },
  {
   "cell_type": "code",
   "execution_count": 36,
   "metadata": {},
   "outputs": [],
   "source": [
    "x1 = {1, 2, 3, 4}\n",
    "x2 = {2, 3, 5, 7}\n",
    "x3 = {2, 4, 6}"
   ]
  },
  {
   "cell_type": "code",
   "execution_count": 37,
   "metadata": {},
   "outputs": [
    {
     "data": {
      "text/plain": [
       "0.3333333333333333"
      ]
     },
     "execution_count": 37,
     "metadata": {},
     "output_type": "execute_result"
    }
   ],
   "source": [
    "jaccard_similarity(x1, x2)"
   ]
  },
  {
   "cell_type": "code",
   "execution_count": 38,
   "metadata": {},
   "outputs": [
    {
     "data": {
      "text/plain": [
       "0.16666666666666666"
      ]
     },
     "execution_count": 38,
     "metadata": {},
     "output_type": "execute_result"
    }
   ],
   "source": [
    "jaccard_similarity(x2, x3) "
   ]
  },
  {
   "cell_type": "code",
   "execution_count": 39,
   "metadata": {},
   "outputs": [
    {
     "data": {
      "text/plain": [
       "0.4"
      ]
     },
     "execution_count": 39,
     "metadata": {},
     "output_type": "execute_result"
    }
   ],
   "source": [
    "jaccard_similarity(x1, x3) "
   ]
  },
  {
   "cell_type": "markdown",
   "metadata": {},
   "source": [
    "### Exercise 3.2.1 What are the first ten 3-shingles in the first sentence of Section 3.2?"
   ]
  },
  {
   "cell_type": "code",
   "execution_count": 40,
   "metadata": {},
   "outputs": [
    {
     "name": "stdout",
     "output_type": "stream",
     "text": [
      "['The', 'he ', 'e m', ' mo', 'mos', 'ost', 'st ', 't e', ' ef', 'eff']\n"
     ]
    }
   ],
   "source": [
    "text_str = 'The most effective way to represent documents as sets, for the purpose of identifying lexically similar documents \\\n",
    "is to construct from the document the set of short strings that appear within it.'\n",
    "out = []\n",
    "for i in range(10):\n",
    "    substr = text_str[i : i + 3]\n",
    "    out.append(substr)\n",
    "print(out)"
   ]
  },
  {
   "cell_type": "markdown",
   "metadata": {},
   "source": [
    "### Exercise 3.3.3"
   ]
  },
  {
   "cell_type": "code",
   "execution_count": 41,
   "metadata": {},
   "outputs": [],
   "source": [
    "df = pd.DataFrame({'Element':range(6), 'S1':[0,0,1,0,0,1], \\\n",
    "                   'S2':[1,1,0,0,0,0], 'S3':[0,0,0,1,1,0], \\\n",
    "                   'S4':[1,0,1,0,1,0]})"
   ]
  },
  {
   "cell_type": "code",
   "execution_count": 42,
   "metadata": {},
   "outputs": [],
   "source": [
    "df['h1'] = [(2*i+1)%6 for i in range(6)]\n",
    "df['h2'] = [(3*i+2)%6 for i in range(6)]\n",
    "df['h3'] = [(5*i+2)%6 for i in range(6)]"
   ]
  },
  {
   "cell_type": "code",
   "execution_count": 43,
   "metadata": {},
   "outputs": [
    {
     "data": {
      "text/html": [
       "<div>\n",
       "<style scoped>\n",
       "    .dataframe tbody tr th:only-of-type {\n",
       "        vertical-align: middle;\n",
       "    }\n",
       "\n",
       "    .dataframe tbody tr th {\n",
       "        vertical-align: top;\n",
       "    }\n",
       "\n",
       "    .dataframe thead th {\n",
       "        text-align: right;\n",
       "    }\n",
       "</style>\n",
       "<table border=\"1\" class=\"dataframe\">\n",
       "  <thead>\n",
       "    <tr style=\"text-align: right;\">\n",
       "      <th></th>\n",
       "      <th>Element</th>\n",
       "      <th>S1</th>\n",
       "      <th>S2</th>\n",
       "      <th>S3</th>\n",
       "      <th>S4</th>\n",
       "      <th>h1</th>\n",
       "      <th>h2</th>\n",
       "      <th>h3</th>\n",
       "    </tr>\n",
       "  </thead>\n",
       "  <tbody>\n",
       "    <tr>\n",
       "      <td>0</td>\n",
       "      <td>0</td>\n",
       "      <td>0</td>\n",
       "      <td>1</td>\n",
       "      <td>0</td>\n",
       "      <td>1</td>\n",
       "      <td>1</td>\n",
       "      <td>2</td>\n",
       "      <td>2</td>\n",
       "    </tr>\n",
       "    <tr>\n",
       "      <td>1</td>\n",
       "      <td>1</td>\n",
       "      <td>0</td>\n",
       "      <td>1</td>\n",
       "      <td>0</td>\n",
       "      <td>0</td>\n",
       "      <td>3</td>\n",
       "      <td>5</td>\n",
       "      <td>1</td>\n",
       "    </tr>\n",
       "    <tr>\n",
       "      <td>2</td>\n",
       "      <td>2</td>\n",
       "      <td>1</td>\n",
       "      <td>0</td>\n",
       "      <td>0</td>\n",
       "      <td>1</td>\n",
       "      <td>5</td>\n",
       "      <td>2</td>\n",
       "      <td>0</td>\n",
       "    </tr>\n",
       "    <tr>\n",
       "      <td>3</td>\n",
       "      <td>3</td>\n",
       "      <td>0</td>\n",
       "      <td>0</td>\n",
       "      <td>1</td>\n",
       "      <td>0</td>\n",
       "      <td>1</td>\n",
       "      <td>5</td>\n",
       "      <td>5</td>\n",
       "    </tr>\n",
       "    <tr>\n",
       "      <td>4</td>\n",
       "      <td>4</td>\n",
       "      <td>0</td>\n",
       "      <td>0</td>\n",
       "      <td>1</td>\n",
       "      <td>1</td>\n",
       "      <td>3</td>\n",
       "      <td>2</td>\n",
       "      <td>4</td>\n",
       "    </tr>\n",
       "    <tr>\n",
       "      <td>5</td>\n",
       "      <td>5</td>\n",
       "      <td>1</td>\n",
       "      <td>0</td>\n",
       "      <td>0</td>\n",
       "      <td>0</td>\n",
       "      <td>5</td>\n",
       "      <td>5</td>\n",
       "      <td>3</td>\n",
       "    </tr>\n",
       "  </tbody>\n",
       "</table>\n",
       "</div>"
      ],
      "text/plain": [
       "   Element  S1  S2  S3  S4  h1  h2  h3\n",
       "0        0   0   1   0   1   1   2   2\n",
       "1        1   0   1   0   0   3   5   1\n",
       "2        2   1   0   0   1   5   2   0\n",
       "3        3   0   0   1   0   1   5   5\n",
       "4        4   0   0   1   1   3   2   4\n",
       "5        5   1   0   0   0   5   5   3"
      ]
     },
     "execution_count": 43,
     "metadata": {},
     "output_type": "execute_result"
    }
   ],
   "source": [
    "# Compute the minhash signature for each column.\n",
    "df"
   ]
  },
  {
   "cell_type": "markdown",
   "metadata": {},
   "source": [
    "As shown in above data frame, the sets of **h1** and **h2** are different from the Elements, so they are not true permutations, while **h3** has the same elements as the Element while in a different order, so **h3** is a **true** permutation.  "
   ]
  },
  {
   "cell_type": "code",
   "execution_count": 44,
   "metadata": {},
   "outputs": [],
   "source": [
    "# calculate the signature matrix\n",
    "# initialite the provided values\n",
    "h_matrix = df[['h1', 'h2', 'h3']].values\n",
    "s_matrix = df[['S1','S2','S3','S4']].values"
   ]
  },
  {
   "cell_type": "code",
   "execution_count": 45,
   "metadata": {},
   "outputs": [],
   "source": [
    "def cal_sig(s_matrix, h_matrix):\n",
    "    sig_matrix = 888*np.ones([h_matrix.shape[1], s_matrix.shape[1]])\n",
    "    for i in range(s_matrix.shape[0]):\n",
    "        for j in range(s_matrix.shape[1]):\n",
    "            if s_matrix[i][j]==1:\n",
    "                for k in range(h_matrix.shape[1]):\n",
    "                    if h_matrix[i][k] < sig_matrix[k][j]:\n",
    "                        sig_matrix[k][j] = h_matrix[i][k]\n",
    "    return sig_matrix"
   ]
  },
  {
   "cell_type": "code",
   "execution_count": 46,
   "metadata": {},
   "outputs": [
    {
     "data": {
      "text/plain": [
       "array([[1., 3., 0., 1.],\n",
       "       [0., 2., 0., 0.]])"
      ]
     },
     "execution_count": 46,
     "metadata": {},
     "output_type": "execute_result"
    }
   ],
   "source": [
    "# run a test on the textbook example\n",
    "test1 = np.array([[1,0,0,1],[0,0,1,0],[0,1,0,1],[1,0,1,1],[0,0,1,0]])\n",
    "test2 = np.array([[1,1],[2,4],[3,2],[4,0],[0,3]])\n",
    "cal_sig(test1, test2)"
   ]
  },
  {
   "cell_type": "code",
   "execution_count": 47,
   "metadata": {},
   "outputs": [],
   "source": [
    "# calculate the signature matrix for the problem\n",
    "sig_result = cal_sig(s_matrix, h_matrix)"
   ]
  },
  {
   "cell_type": "code",
   "execution_count": 48,
   "metadata": {},
   "outputs": [
    {
     "data": {
      "text/plain": [
       "array([[5., 1., 1., 1.],\n",
       "       [2., 2., 2., 2.],\n",
       "       [0., 1., 4., 0.]])"
      ]
     },
     "execution_count": 48,
     "metadata": {},
     "output_type": "execute_result"
    }
   ],
   "source": [
    "sig_result"
   ]
  },
  {
   "cell_type": "code",
   "execution_count": 49,
   "metadata": {},
   "outputs": [],
   "source": [
    "def cal_sim(a, b):\n",
    "    return sum(a==b)/len(a)"
   ]
  },
  {
   "cell_type": "code",
   "execution_count": 50,
   "metadata": {},
   "outputs": [
    {
     "name": "stdout",
     "output_type": "stream",
     "text": [
      "The true jaccard similarity between S1 and S2 is 0.000,\n",
      "The calculated similarity is: 0.333.\n",
      "\n",
      "The true jaccard similarity between S1 and S3 is 0.000,\n",
      "The calculated similarity is: 0.333.\n",
      "\n",
      "The true jaccard similarity between S1 and S4 is 0.250,\n",
      "The calculated similarity is: 0.667.\n",
      "\n",
      "The true jaccard similarity between S2 and S3 is 0.000,\n",
      "The calculated similarity is: 0.667.\n",
      "\n",
      "The true jaccard similarity between S2 and S4 is 0.250,\n",
      "The calculated similarity is: 0.667.\n",
      "\n",
      "The true jaccard similarity between S3 and S4 is 0.250,\n",
      "The calculated similarity is: 0.667.\n"
     ]
    }
   ],
   "source": [
    "# Print out the true jaccard similarity and the ones from signature matrix\n",
    "from sklearn.metrics import jaccard_score\n",
    "print('The true jaccard similarity between S1 and S2 is {:.3f},\\n\\\n",
    "The calculated similarity is: {:.3f}.\\n'.format(jaccard_score(df.S1, df.S2), \\\n",
    "                                                cal_sim(sig_result[:,0], sig_result[:,1])))\n",
    "\n",
    "print('The true jaccard similarity between S1 and S3 is {:.3f},\\n\\\n",
    "The calculated similarity is: {:.3f}.\\n'.format(jaccard_score(df.S1, df.S3), \\\n",
    "                                                cal_sim(sig_result[:,0], sig_result[:,2])))\n",
    "\n",
    "print('The true jaccard similarity between S1 and S4 is {:.3f},\\n\\\n",
    "The calculated similarity is: {:.3f}.\\n'.format(jaccard_score(df.S1, df.S4), \\\n",
    "                                                cal_sim(sig_result[:,0], sig_result[:,3])))\n",
    "\n",
    "print('The true jaccard similarity between S2 and S3 is {:.3f},\\n\\\n",
    "The calculated similarity is: {:.3f}.\\n'.format(jaccard_score(df.S2, df.S3), \\\n",
    "                                                cal_sim(sig_result[:,1], sig_result[:,2])))\n",
    "\n",
    "print('The true jaccard similarity between S2 and S4 is {:.3f},\\n\\\n",
    "The calculated similarity is: {:.3f}.\\n'.format(jaccard_score(df.S2, df.S4), \\\n",
    "                                                cal_sim(sig_result[:,1], sig_result[:,3])))\n",
    "\n",
    "print('The true jaccard similarity between S3 and S4 is {:.3f},\\n\\\n",
    "The calculated similarity is: {:.3f}.'.format(jaccard_score(df.S3, df.S4), \\\n",
    "                                                cal_sim(sig_result[:,2], sig_result[:,3])))"
   ]
  },
  {
   "cell_type": "markdown",
   "metadata": {},
   "source": [
    "### Exercise 3.4.1"
   ]
  },
  {
   "cell_type": "code",
   "execution_count": 51,
   "metadata": {},
   "outputs": [],
   "source": [
    "def s_curve(s, r, b):\n",
    "    return 1-(1-s**r)**b"
   ]
  },
  {
   "cell_type": "code",
   "execution_count": 52,
   "metadata": {
    "scrolled": true
   },
   "outputs": [
    {
     "data": {
      "text/plain": [
       "<matplotlib.legend.Legend at 0x290c3cde688>"
      ]
     },
     "execution_count": 52,
     "metadata": {},
     "output_type": "execute_result"
    },
    {
     "data": {
      "image/png": "[encoded data removed]",
      "text/plain": [
       "<Figure size 432x288 with 1 Axes>"
      ]
     },
     "metadata": {
      "needs_background": "light"
     },
     "output_type": "display_data"
    }
   ],
   "source": [
    "import matplotlib.pyplot as plt\n",
    "import numpy as np\n",
    "\n",
    "s = np.linspace(0.1, 0.9, 9)\n",
    "y1 = [s_curve(i, 3, 10) for i in s]\n",
    "y2 = [s_curve(i, 6, 20) for i in s]\n",
    "y3 = [s_curve(i, 5, 50) for i in s]\n",
    "plt.plot(s, y1, label = 'r=6, b=10')\n",
    "plt.plot(s, y2, label = 'r=6, b=20')\n",
    "plt.plot(s, y3, label = 'r=5, b=50')\n",
    "plt.legend()"
   ]
  },
  {
   "cell_type": "code",
   "execution_count": null,
   "metadata": {},
   "outputs": [],
   "source": []
  }
 ],
 "metadata": {
  "kernelspec": {
   "display_name": "Python 3",
   "language": "python",
   "name": "python3"
  },
  "language_info": {
   "codemirror_mode": {
    "name": "ipython",
    "version": 3
   },
   "file_extension": ".py",
   "mimetype": "text/x-python",
   "name": "python",
   "nbconvert_exporter": "python",
   "pygments_lexer": "ipython3",
   "version": "3.7.4"
  }
 },
 "nbformat": 4,
 "nbformat_minor": 2
}
